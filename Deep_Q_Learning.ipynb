{
  "cells": [
    {
      "cell_type": "markdown",
      "metadata": {
        "id": "ppDcIdpjq9AL"
      },
      "source": [
        "# Deep Q-Learning for Lunar Landing"
      ]
    },
    {
      "cell_type": "code",
      "execution_count": null,
      "metadata": {
        "colab": {
          "base_uri": "https://localhost:8080/"
        },
        "id": "JHmbMVqoqfwI",
        "collapsed": true,
        "outputId": "007f2023-7945-488c-a209-52987acd0040"
      },
      "outputs": [
        {
          "output_type": "stream",
          "name": "stdout",
          "text": [
            "Requirement already satisfied: gymnasium in /usr/local/lib/python3.10/dist-packages (0.29.1)\n",
            "Requirement already satisfied: numpy>=1.21.0 in /usr/local/lib/python3.10/dist-packages (from gymnasium) (1.25.2)\n",
            "Requirement already satisfied: cloudpickle>=1.2.0 in /usr/local/lib/python3.10/dist-packages (from gymnasium) (2.2.1)\n",
            "Requirement already satisfied: typing-extensions>=4.3.0 in /usr/local/lib/python3.10/dist-packages (from gymnasium) (4.12.2)\n",
            "Requirement already satisfied: farama-notifications>=0.0.1 in /usr/local/lib/python3.10/dist-packages (from gymnasium) (0.0.4)\n",
            "Requirement already satisfied: gymnasium[accept-rom-license,atari] in /usr/local/lib/python3.10/dist-packages (0.29.1)\n",
            "Requirement already satisfied: numpy>=1.21.0 in /usr/local/lib/python3.10/dist-packages (from gymnasium[accept-rom-license,atari]) (1.25.2)\n",
            "Requirement already satisfied: cloudpickle>=1.2.0 in /usr/local/lib/python3.10/dist-packages (from gymnasium[accept-rom-license,atari]) (2.2.1)\n",
            "Requirement already satisfied: typing-extensions>=4.3.0 in /usr/local/lib/python3.10/dist-packages (from gymnasium[accept-rom-license,atari]) (4.12.2)\n",
            "Requirement already satisfied: farama-notifications>=0.0.1 in /usr/local/lib/python3.10/dist-packages (from gymnasium[accept-rom-license,atari]) (0.0.4)\n",
            "Requirement already satisfied: shimmy<1.0,>=0.1.0 in /usr/local/lib/python3.10/dist-packages (from shimmy[atari]<1.0,>=0.1.0; extra == \"atari\"->gymnasium[accept-rom-license,atari]) (0.2.1)\n",
            "Requirement already satisfied: autorom~=0.4.2 in /usr/local/lib/python3.10/dist-packages (from autorom[accept-rom-license]~=0.4.2; extra == \"accept-rom-license\"->gymnasium[accept-rom-license,atari]) (0.4.2)\n",
            "Requirement already satisfied: click in /usr/local/lib/python3.10/dist-packages (from autorom~=0.4.2->autorom[accept-rom-license]~=0.4.2; extra == \"accept-rom-license\"->gymnasium[accept-rom-license,atari]) (8.1.7)\n",
            "Requirement already satisfied: requests in /usr/local/lib/python3.10/dist-packages (from autorom~=0.4.2->autorom[accept-rom-license]~=0.4.2; extra == \"accept-rom-license\"->gymnasium[accept-rom-license,atari]) (2.31.0)\n",
            "Requirement already satisfied: tqdm in /usr/local/lib/python3.10/dist-packages (from autorom~=0.4.2->autorom[accept-rom-license]~=0.4.2; extra == \"accept-rom-license\"->gymnasium[accept-rom-license,atari]) (4.66.4)\n",
            "Requirement already satisfied: AutoROM.accept-rom-license in /usr/local/lib/python3.10/dist-packages (from autorom[accept-rom-license]~=0.4.2; extra == \"accept-rom-license\"->gymnasium[accept-rom-license,atari]) (0.6.1)\n",
            "Requirement already satisfied: ale-py~=0.8.1 in /usr/local/lib/python3.10/dist-packages (from shimmy[atari]<1.0,>=0.1.0; extra == \"atari\"->gymnasium[accept-rom-license,atari]) (0.8.1)\n",
            "Requirement already satisfied: importlib-resources in /usr/local/lib/python3.10/dist-packages (from ale-py~=0.8.1->shimmy[atari]<1.0,>=0.1.0; extra == \"atari\"->gymnasium[accept-rom-license,atari]) (6.4.0)\n",
            "Requirement already satisfied: charset-normalizer<4,>=2 in /usr/local/lib/python3.10/dist-packages (from requests->autorom~=0.4.2->autorom[accept-rom-license]~=0.4.2; extra == \"accept-rom-license\"->gymnasium[accept-rom-license,atari]) (3.3.2)\n",
            "Requirement already satisfied: idna<4,>=2.5 in /usr/local/lib/python3.10/dist-packages (from requests->autorom~=0.4.2->autorom[accept-rom-license]~=0.4.2; extra == \"accept-rom-license\"->gymnasium[accept-rom-license,atari]) (3.7)\n",
            "Requirement already satisfied: urllib3<3,>=1.21.1 in /usr/local/lib/python3.10/dist-packages (from requests->autorom~=0.4.2->autorom[accept-rom-license]~=0.4.2; extra == \"accept-rom-license\"->gymnasium[accept-rom-license,atari]) (2.0.7)\n",
            "Requirement already satisfied: certifi>=2017.4.17 in /usr/local/lib/python3.10/dist-packages (from requests->autorom~=0.4.2->autorom[accept-rom-license]~=0.4.2; extra == \"accept-rom-license\"->gymnasium[accept-rom-license,atari]) (2024.7.4)\n",
            "Reading package lists... Done\n",
            "Building dependency tree... Done\n",
            "Reading state information... Done\n",
            "swig is already the newest version (4.0.2-1ubuntu1).\n",
            "0 upgraded, 0 newly installed, 0 to remove and 45 not upgraded.\n",
            "Requirement already satisfied: gymnasium[box2d] in /usr/local/lib/python3.10/dist-packages (0.29.1)\n",
            "Requirement already satisfied: numpy>=1.21.0 in /usr/local/lib/python3.10/dist-packages (from gymnasium[box2d]) (1.25.2)\n",
            "Requirement already satisfied: cloudpickle>=1.2.0 in /usr/local/lib/python3.10/dist-packages (from gymnasium[box2d]) (2.2.1)\n",
            "Requirement already satisfied: typing-extensions>=4.3.0 in /usr/local/lib/python3.10/dist-packages (from gymnasium[box2d]) (4.12.2)\n",
            "Requirement already satisfied: farama-notifications>=0.0.1 in /usr/local/lib/python3.10/dist-packages (from gymnasium[box2d]) (0.0.4)\n",
            "Requirement already satisfied: box2d-py==2.3.5 in /usr/local/lib/python3.10/dist-packages (from gymnasium[box2d]) (2.3.5)\n",
            "Requirement already satisfied: pygame>=2.1.3 in /usr/local/lib/python3.10/dist-packages (from gymnasium[box2d]) (2.6.0)\n",
            "Requirement already satisfied: swig==4.* in /usr/local/lib/python3.10/dist-packages (from gymnasium[box2d]) (4.2.1)\n"
          ]
        }
      ],
      "source": [
        "!pip install gymnasium\n",
        "!pip install \"gymnasium[atari , accept-rom-license] \"\n",
        "!apt-get install -y swig\n",
        "!pip install gymnasium[box2d]"
      ]
    },
    {
      "cell_type": "code",
      "execution_count": null,
      "metadata": {
        "id": "AUi1OXzAsC44"
      },
      "outputs": [],
      "source": [
        "# Importing Libraries\n",
        "\n",
        "import os\n",
        "import random\n",
        "import numpy as np\n",
        "import pandas as pd\n",
        "import torch\n",
        "import torch.nn as nn\n",
        "import torch.optim as optim\n",
        "import torch.nn.functional as F\n",
        "import torch.autograd as autograd\n",
        "from torch.autograd import Variable\n",
        "from collections import deque , namedtuple"
      ]
    },
    {
      "cell_type": "code",
      "execution_count": null,
      "metadata": {
        "id": "h_VCpH2tsrrj"
      },
      "outputs": [],
      "source": [
        "# Brain of Neaural network\n",
        "class Network(nn.Module):\n",
        "\n",
        "  def __init__(self, state_size, action_size, seed = 42):\n",
        "    super(Network, self).__init__()\n",
        "    self.seed = torch.manual_seed(seed)\n",
        "    self.fc1 = nn.Linear(state_size, 64)\n",
        "    self.fc2 = nn.Linear(64, 64)\n",
        "    self.fc3 = nn.Linear(64, action_size)\n",
        "\n",
        "  def forward(self, state):\n",
        "    x = self.fc1(state)\n",
        "    x = F.relu(x)\n",
        "    x = self.fc2(x)\n",
        "    x = F.relu(x)\n",
        "    return self.fc3(x)\n",
        "\n"
      ]
    },
    {
      "cell_type": "code",
      "execution_count": null,
      "metadata": {
        "colab": {
          "base_uri": "https://localhost:8080/"
        },
        "id": "GzI26qF--_I0",
        "outputId": "35a0ba87-5397-4458-b443-5ea52cc6d359"
      },
      "outputs": [
        {
          "output_type": "stream",
          "name": "stdout",
          "text": [
            "State shape:  (8,)\n",
            "State size:  8\n",
            "Number of actions:  4\n"
          ]
        }
      ],
      "source": [
        "# Envirornment\n",
        "\n",
        "import gymnasium as gym\n",
        "env = gym.make('LunarLander-v2')\n",
        "state_shape = env.observation_space.shape\n",
        "state_size = env.observation_space.shape[0]\n",
        "number_actions = env.action_space.n\n",
        "print('State shape: ', state_shape)\n",
        "print('State size: ', state_size)\n",
        "print('Number of actions: ', number_actions)\n"
      ]
    },
    {
      "cell_type": "code",
      "execution_count": null,
      "metadata": {
        "id": "kDP4V7PbPcNW"
      },
      "outputs": [],
      "source": [
        "learning_rate = 5e-4\n",
        "minibatch_size = 100\n",
        "discount_factor = 0.99\n",
        "replay_buffer_size = int(1e5)\n",
        "interpolation_parameter = 1e-3"
      ]
    },
    {
      "cell_type": "code",
      "execution_count": null,
      "metadata": {
        "id": "JHj83tiicI7-"
      },
      "outputs": [],
      "source": [
        "class ReplayMemory(object):\n",
        "\n",
        "  def __init__(self, capacity):\n",
        "    self.device = torch.device(\"cuda:0\" if torch.cuda.is_available() else \"cpu\")\n",
        "    self.capacity = capacity\n",
        "    self.memory = []\n",
        "\n",
        "  def push(self, event):\n",
        "    self.memory.append(event)\n",
        "    if len(self.memory) > self.capacity:\n",
        "      del self.memory[0]\n",
        "\n",
        "  def sample(self, batch_size):\n",
        "    experiences = random.sample(self.memory, k = batch_size)\n",
        "    states = torch.from_numpy(np.vstack([e[0] for e in experiences if e is not None])).float().to(self.device)\n",
        "    actions = torch.from_numpy(np.vstack([e[1] for e in experiences if e is not None])).long().to(self.device)\n",
        "    rewards = torch.from_numpy(np.vstack([e[2] for e in experiences if e is not None])).float().to(self.device)\n",
        "    next_states = torch.from_numpy(np.vstack([e[3] for e in experiences if e is not None])).float().to(self.device)\n",
        "    dones = torch.from_numpy(np.vstack([e[4] for e in experiences if e is not None]).astype(np.uint8)).float().to(self.device)\n",
        "    return states, next_states, actions, rewards, dones"
      ]
    },
    {
      "cell_type": "code",
      "source": [
        "class Agent():\n",
        "\n",
        "  def __init__(self, state_size, action_size):\n",
        "    self.device = torch.device(\"cuda:0\" if torch.cuda.is_available() else \"cpu\")\n",
        "    self.state_size = state_size\n",
        "    self.action_size = action_size\n",
        "    self.local_qnetwork = Network(state_size, action_size).to(self.device)\n",
        "    self.target_qnetwork = Network(state_size, action_size).to(self.device)\n",
        "    self.optimizer = optim.Adam(self.local_qnetwork.parameters(), lr = learning_rate)\n",
        "    self.memory = ReplayMemory(replay_buffer_size)\n",
        "    self.t_step = 0\n",
        "\n",
        "  def step(self, state, action, reward, next_state, done):\n",
        "    self.memory.push((state, action, reward, next_state, done))\n",
        "    self.t_step = (self.t_step + 1) % 4\n",
        "    if self.t_step == 0:\n",
        "      if len(self.memory.memory) > minibatch_size:\n",
        "        experiences = self.memory.sample(100)\n",
        "        self.learn(experiences, discount_factor)\n",
        "\n",
        "  def act(self, state, epsilon = 0.):\n",
        "    state = torch.from_numpy(state).float().unsqueeze(0).to(self.device)\n",
        "    self.local_qnetwork.eval()\n",
        "    with torch.no_grad():\n",
        "      action_values = self.local_qnetwork(state)\n",
        "    self.local_qnetwork.train()\n",
        "    if random.random() > epsilon:\n",
        "      return np.argmax(action_values.cpu().data.numpy())\n",
        "    else:\n",
        "      return random.choice(np.arange(self.action_size))\n",
        "\n",
        "  def learn(self, experiences, discount_factor):\n",
        "    states, next_states, actions, rewards, dones = experiences\n",
        "    next_q_targets = self.target_qnetwork(next_states).detach().max(1)[0].unsqueeze(1)\n",
        "    q_targets = rewards + discount_factor * next_q_targets * (1 - dones)\n",
        "    q_expected = self.local_qnetwork(states).gather(1, actions)\n",
        "    loss = F.mse_loss(q_expected, q_targets)\n",
        "    self.optimizer.zero_grad()\n",
        "    loss.backward()\n",
        "    self.optimizer.step()\n",
        "    self.soft_update(self.local_qnetwork, self.target_qnetwork, interpolation_parameter)\n",
        "\n",
        "  def soft_update(self, local_model, target_model, interpolation_parameter):\n",
        "    for target_param, local_param in zip(target_model.parameters(), local_model.parameters()):\n",
        "      target_param.data.copy_(interpolation_parameter * local_param.data + (1.0 - interpolation_parameter) * target_param.data)\n",
        "\n",
        "\n",
        "agent = Agent(state_size, number_actions)"
      ],
      "metadata": {
        "id": "yJ0uiOmEOAfA"
      },
      "execution_count": null,
      "outputs": []
    },
    {
      "cell_type": "code",
      "source": [
        "# Training of the agent\n",
        "\n",
        "num_episodes = 2000\n",
        "max_t = 1000\n",
        "epsilon_start = 1.0\n",
        "epsilon_final = 0.01\n",
        "epsilon_decay = 0.995\n",
        "epsilon = epsilon_start\n",
        "scores_window = deque(maxlen = 100)\n",
        "scores = 0\n",
        "for episode in range(1, num_episodes + 1):\n",
        "  state, _ = env.reset()\n",
        "  score = 0\n",
        "  for t in range(max_t):\n",
        "    action = agent.act(state, epsilon)\n",
        "    next_state, reward, done, _,_ = env.step(action)\n",
        "    agent.step(state, action, reward, next_state, done)\n",
        "    state = next_state\n",
        "    score += reward\n",
        "    if done:\n",
        "      break\n",
        "  scores_window.append(score)\n",
        "  epsilon = max(epsilon_final, epsilon * epsilon_decay)\n",
        "  print('\\rEpisode {}\\tAverage Score: {:.2f}'.format(episode, np.mean(scores_window)),end=\"\")\n",
        "  if episode % 100 == 0 :\n",
        "    print('\\rEpisode {}\\tAverage Score: {:.2f}',format(episode , np.mean(scores_window)))\n",
        "  if np.mean(scores_window) >= 200.0:\n",
        "    print('\\nEnvironment solved in {:d} episodes!\\tAverage Score: {:.2f}'.format(episode - 100, np.mean(scores_window)))\n",
        "    torch.save(agent.local_qnetwork.state_dict(), 'checkpoint.pth')\n",
        "    break\n"
      ],
      "metadata": {
        "id": "YwMd0xPNf0I3"
      },
      "execution_count": null,
      "outputs": []
    },
    {
      "cell_type": "code",
      "source": [
        "import glob\n",
        "import io\n",
        "import base64\n",
        "import imageio\n",
        "from IPython.display import HTML , display\n",
        "from gym.wrappers.monitoring.video_recorder import VideoRecorder"
      ],
      "metadata": {
        "id": "KglyVQGDY3c2"
      },
      "execution_count": null,
      "outputs": []
    },
    {
      "cell_type": "code",
      "source": [
        "def show_video_of_model(agent, env_name):\n",
        "    env = gym.make(env_name, render_mode='rgb_array')\n",
        "    state, _ = env.reset()\n",
        "    done = False\n",
        "    frames = []\n",
        "    while not done:\n",
        "        frame = env.render()\n",
        "        frames.append(frame)\n",
        "        action = agent.act(state)\n",
        "        state, reward, done, _, _ = env.step(action.item())\n",
        "    env.close()\n",
        "    imageio.mimsave('video.mp4', frames, fps=30)\n",
        "\n",
        "show_video_of_model(agent, 'LunarLander-v2')"
      ],
      "metadata": {
        "id": "4NQ0JWHjdLYz",
        "colab": {
          "base_uri": "https://localhost:8080/"
        },
        "outputId": "efaa8bf0-ea4f-47f4-afe6-e58feec7d2fe"
      },
      "execution_count": null,
      "outputs": [
        {
          "output_type": "stream",
          "name": "stderr",
          "text": [
            "WARNING:imageio_ffmpeg:IMAGEIO FFMPEG_WRITER WARNING: input image is not divisible by macro_block_size=16, resizing from (600, 400) to (608, 400) to ensure video compatibility with most codecs and players. To prevent resizing, make your input image divisible by the macro_block_size or set the macro_block_size to 1 (risking incompatibility).\n"
          ]
        }
      ]
    },
    {
      "cell_type": "code",
      "source": [
        "def show_video():\n",
        "    mp4list = glob.glob('*.mp4')\n",
        "    if len(mp4list) > 0:\n",
        "        mp4 = mp4list[0]\n",
        "        video = io.open(mp4, 'r+b').read()\n",
        "        encoded = base64.b64encode(video)\n",
        "        display(HTML(data='''<video alt=\"test\" autoplay\n",
        "                loop controls style=\"height: 400px;\">\n",
        "                <source src=\"data:video/mp4;base64,{0}\" type=\"video/mp4\" />\n",
        "             </video>'''.format(encoded.decode('ascii'))))\n",
        "    else:\n",
        "        print(\"Could not find video\")\n",
        "\n",
        "show_video()"
      ],
      "metadata": {
        "colab": {
          "base_uri": "https://localhost:8080/",
          "height": 441
        },
        "id": "cPS9oM8FyVjF",
        "outputId": "6b56f6e3-254e-4874-b641-883c48ecbab3"
      },
      "execution_count": null,
      "outputs": [
        {
          "output_type": "display_data",
          "data": {
            "text/plain": [
              "<IPython.core.display.HTML object>"
            ],
            "text/html": [
              "<video alt=\"test\" autoplay\n",
              "                loop controls style=\"height: 400px;\">\n",
              "                <source src=\"data:video/mp4;base64,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\" type=\"video/mp4\" />\n",
              "             </video>"
            ]
          },
          "metadata": {}
        }
      ]
    },
    {
      "cell_type": "code",
      "source": [],
      "metadata": {
        "id": "bZWW0HD-yZUk"
      },
      "execution_count": null,
      "outputs": []
    }
  ],
  "metadata": {
    "colab": {
      "provenance": []
    },
    "kernelspec": {
      "display_name": "Python 3",
      "name": "python3"
    },
    "language_info": {
      "name": "python"
    }
  },
  "nbformat": 4,
  "nbformat_minor": 0
}